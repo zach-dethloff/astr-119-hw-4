{
 "cells": [
  {
   "cell_type": "markdown",
   "metadata": {},
   "source": [
    "# Bisection Search"
   ]
  },
  {
   "cell_type": "code",
   "execution_count": null,
   "metadata": {},
   "outputs": [],
   "source": [
    "import matplotlib.pyplot as plt\n",
    "import numpy as np\n",
    "%matplotlib inline"
   ]
  },
  {
   "cell_type": "code",
   "execution_count": null,
   "metadata": {},
   "outputs": [],
   "source": [
    "def function_value(x):\n",
    "    \n",
    "    return 1.01*x**2 + (-3.04)*x + 2.07"
   ]
  },
  {
   "cell_type": "code",
   "execution_count": null,
   "metadata": {},
   "outputs": [],
   "source": [
    "def check_initial_values(f, x_min, x_max, tol):\n",
    "    y_min = f(x_min)\n",
    "    y_max = f(x_max)\n",
    "    if(y_min*y_max > 0.0):\n",
    "        print(\"One of the roots must be negative, so these roots are invalid for the range \", x_min,x_max)\n",
    "        return 0\n",
    "    \n",
    "    if(np.fabs(y_min)<tol):\n",
    "        return 1\n",
    "    if(np.fabs(y_max)<tol):\n",
    "        return 2\n",
    "    \n",
    "    return 3"
   ]
  },
  {
   "cell_type": "code",
   "execution_count": null,
   "metadata": {},
   "outputs": [],
   "source": [
    "def bisection_search(f, x_min, x_max, tol):\n",
    "    \n",
    "    x_mid = 0.0\n",
    "    y_min = f(x_min)\n",
    "    y_max = f(x_max)\n",
    "    y_mid = 0.0\n",
    "    \n",
    "    imax = 10000\n",
    "    i = 0\n",
    "    \n",
    "    mark = check_initial_values(f, x_min, x_max, tol)\n",
    "    \n",
    "    if(mark==0):\n",
    "        print(\"Error in bisection_root_finding\")\n",
    "        raise ValueError(\"Initial values: \", x_min, x_max, \" are invalid\")\n",
    "    elif(mark==1):\n",
    "        return x_min\n",
    "    elif(mark==2):\n",
    "        return x_max\n",
    "    \n",
    "    mark = 1\n",
    "    \n",
    "    while(mark != 0):\n",
    "        x_mid = 0.5*(x_min + x_max)\n",
    "        y_mid = f(x_mid)\n",
    "        \n",
    "        if(np.fabs(y_mid)<tol):\n",
    "            mark = 0\n",
    "        else:\n",
    "            if(f(x_min)*f(x_mid)>0):\n",
    "                x_min = x_mid\n",
    "            else:\n",
    "                x_max = x_mid\n",
    "                \n",
    "        print(x_min,f(x_min), x_max, f(x_max))\n",
    "        i += 1\n",
    "        if(i>=imax):\n",
    "            print(\"Max number of iterations reached, i = \", imax, \". Final brackets: \")\n",
    "            print(\"x_max value = %d\" % x_max)\n",
    "            print(\"x_min value = %d\" % x_min)\n",
    "            print(\"x_mid value = %d\" % x_mid)\n",
    "            print(\"Try starting with one of these boundary conditions instead.\")\n",
    "            raise StopIteration(\"Stopping iteration after \", i)\n",
    "    print(\"It took %d iterations\" % i)\n",
    "    return x_mid"
   ]
  },
  {
   "cell_type": "code",
   "execution_count": null,
   "metadata": {},
   "outputs": [],
   "source": [
    "x_min = 0.0\n",
    "x_max = 1.5\n",
    "tolerance = 1.0e-6\n",
    "\n",
    "\n",
    "print(x_min,function_value(x_min))\n",
    "print(x_max,function_value(x_max))\n",
    "\n",
    "x_root = bisection_search(function_value,x_min,x_max,tolerance)\n",
    "y_root = function_value(x_root)\n",
    "\n",
    "print(\"Root found with y(%f) = %f\" % (x_root,y_root))"
   ]
  },
  {
   "cell_type": "code",
   "execution_count": null,
   "metadata": {},
   "outputs": [],
   "source": [
    "x = np.linspace(0.,3,1000)\n",
    "fig = plt.figure(figsize = (8,8))\n",
    "plt.plot(x, function_for_roots(x), label = 'function')\n",
    "plt.xlim([0,3])\n",
    "plt.ylim([-0.5,2.1])\n",
    "y = np.array([function_value(x_min), function_value(x_max)])\n",
    "x = np.array([x_min, x_max])\n",
    "plt.scatter(x,y, color = 'orange', label = 'bracket values')\n",
    "x2 = x_root\n",
    "y2 = y_root\n",
    "plt.scatter(x2,y2, label = 'root', color = 'red')\n",
    "plt.legend(loc = 3)\n",
    "plt.axhline(y=0, xmin = 0, xmax = 3, label = 'y = 0', color = 'black')"
   ]
  },
  {
   "cell_type": "code",
   "execution_count": null,
   "metadata": {},
   "outputs": [],
   "source": []
  }
 ],
 "metadata": {
  "kernelspec": {
   "display_name": "Python 3",
   "language": "python",
   "name": "python3"
  },
  "language_info": {
   "codemirror_mode": {
    "name": "ipython",
    "version": 3
   },
   "file_extension": ".py",
   "mimetype": "text/x-python",
   "name": "python",
   "nbconvert_exporter": "python",
   "pygments_lexer": "ipython3",
   "version": "3.8.3"
  }
 },
 "nbformat": 4,
 "nbformat_minor": 4
}
