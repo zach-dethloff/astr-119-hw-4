{
 "cells": [
  {
   "cell_type": "markdown",
   "metadata": {},
   "source": [
    "# Bisection Search"
   ]
  },
  {
   "cell_type": "code",
   "execution_count": null,
   "metadata": {},
   "outputs": [],
   "source": [
    "import matplotlib.pyplot as plt #importing matplotlib and numpy\n",
    "import numpy as np\n",
    "%matplotlib inline"
   ]
  },
  {
   "cell_type": "code",
   "execution_count": null,
   "metadata": {},
   "outputs": [],
   "source": [
    "def function_value(x):  #creating a function to find the roots of\n",
    "    \n",
    "    return 1.01*x**2 + (-3.04)*x + 2.07 #returning the function and its values"
   ]
  },
  {
   "cell_type": "code",
   "execution_count": null,
   "metadata": {},
   "outputs": [],
   "source": [
    "def check_initial_values(f, x_min, x_max, tol): #function to see if the proposed bracketing values are valid\n",
    "    y_min = f(x_min) #putting x_min value through function \n",
    "    y_max = f(x_max) #putting x_max value through function\n",
    "    if(y_min*y_max > 0.0): #if the roots are not in a reasonable range, raise an error and end process of root searching\n",
    "        print(\"One of the roots must be negative, so these roots are invalid for the range \", x_min,x_max)\n",
    "        return 0 #this will give the mark variable 0, ending the bisection_search\n",
    "    \n",
    "    if(np.fabs(y_min)<tol): #testing to see if y_min function is less than the tolerance, if so saving it to become the new mid value\n",
    "        return 1\n",
    "if(np.fabs(y_max)<tol): #testing to see if y_max function is less than the tolerance, if so saving it to become the new mid value\n",
    "        return 2\n",
    "    \n",
    "    return 3 "
   ]
  },
  {
   "cell_type": "code",
   "execution_count": null,
   "metadata": {},
   "outputs": [],
   "source": [
    "def bisection_search(f, x_min, x_max, tol):\n",
    "    \n",
    "    x_mid = 0.0\n",
    "    y_min = f(x_min) \n",
    "    y_max = f(x_max)\n",
    "    y_mid = 0.0\n",
    "    \n",
    "    imax = 10000 #setting up a maximum iteration value\n",
    "    i = 0 #initial iteration value\n",
    "    \n",
    "    mark = check_initial_values(f, x_min, x_max, tol) #testing values consistently until they become closer to roots\n",
    "    \n",
    "    if(mark==0):\n",
    "        print(\"Error in bisection_root_finding\") #stopping the bisection search\n",
    "        raise ValueError(\"Initial values: \", x_min, x_max, \" are invalid\")\n",
    "    elif(mark==1):\n",
    "        return x_min #returning x_min as accurate variable\n",
    "    elif(mark==2):\n",
    "        return x_max #returning x_max as accurate variable\n",
    "    \n",
    "    mark = 1 #resetting mark value\n",
    "    \n",
    "    while(mark != 0): #running while loop until root value  is found\n",
    "        x_mid = 0.5*(x_min + x_max) #creating an x_mid\n",
    "        y_mid = f(x_mid) #putting x_mid into function\n",
    "        \n",
    "        if(np.fabs(y_mid)<tol): # ending the function if the mid value has been found\n",
    "            mark = 0\n",
    "        else:\n",
    "            if(f(x_min)*f(x_mid)>0): #setting the x_min value to x_mid if it is greater than zero\n",
    "                x_min = x_mid\n",
    "            else:\n",
    "                x_max = x_mid #setting x_max value to x_mid otherwise\n",
    "                \n",
    "        print(x_min,f(x_min), x_max, f(x_max)) #printing iterated values\n",
    "        i += 1 #increasing iteration count\n",
    "        if(i>=imax): #setting up a response to iterating over 10000 times\n",
    "            print(\"Max number of iterations reached, i = \", imax, \". Final brackets: \")\n",
    "            print(\"x_max value = %d\" % x_max)\n",
    "            print(\"x_min value = %d\" % x_min)\n",
    "            print(\"x_mid value = %d\" % x_mid)\n",
    "            print(\"Try starting with one of these boundary conditions instead.\")\n",
    "            raise StopIteration(\"Stopping iteration after \", i)\n",
    "    print(\"It took %d iterations\" % i) #printing iteration number\n",
    "    return x_mid #returning x_mid value to x_root variable"
   ]
  },
  {
   "cell_type": "code",
   "execution_count": null,
   "metadata": {},
   "outputs": [],
   "source": [
    "x_min = 0.0 #setting up bracket conditions\n",
    "x_max = 1.5\n",
    "tolerance = 1.0e-6\n",
    "\n",
    "\n",
    "print(x_min,function_value(x_min)) #printing initial values\n",
    "print(x_max,function_value(x_max))\n",
    "\n",
    "x_root = bisection_search(function_value,x_min,x_max,tolerance) #finding the x_root value\n",
    "y_root = function_value(x_root) #finding the y_root value\n",
    "\n",
    "print(\"Root found with y(%f) = %f\" % (x_root,y_root)) #printing out final values"
   ]
  },
  {
   "cell_type": "code",
   "execution_count": null,
   "metadata": {},
   "outputs": [],
   "source": [
    "x = np.linspace(0.,3,1000) #setting up an x variable from 0 to 3 with 1000 points in between\n",
    "fig = plt.figure(figsize = (8,8)) #creating an 8x8 figure\n",
    "plt.plot(x, function_for_roots(x), label = 'function') #plotting the function over x values\n",
    "plt.xlim([0,3]) #setting x and y limits\n",
    "plt.ylim([-0.5,2.1])\n",
    "y = np.array([function_value(x_min), function_value(x_max)]) #setting up bracket values\n",
    "x = np.array([x_min, x_max])\n",
    "plt.scatter(x,y, color = 'orange', label = 'bracket values')\n",
    "x2 = x_root #setting up final root value\n",
    "y2 = y_root\n",
    "plt.scatter(x2,y2, label = 'root', color = 'red')\n",
    "plt.legend(loc = 3) #legend for the 3 main data points\n",
    "plt.axhline(y=0, xmin = 0, xmax = 3, label = 'y = 0', color = 'black') #setting up the horizontal midline at y = 0"
   ]
  },
  {
   "cell_type": "code",
   "execution_count": null,
   "metadata": {},
   "outputs": [],
   "source": []
  }
 ],
 "metadata": {
  "kernelspec": {
   "display_name": "Python 3",
   "language": "python",
   "name": "python3"
  },
  "language_info": {
   "codemirror_mode": {
    "name": "ipython",
    "version": 3
   },
   "file_extension": ".py",
   "mimetype": "text/x-python",
   "name": "python",
   "nbconvert_exporter": "python",
   "pygments_lexer": "ipython3",
   "version": "3.8.3"
  }
 },
 "nbformat": 4,
 "nbformat_minor": 4
}
